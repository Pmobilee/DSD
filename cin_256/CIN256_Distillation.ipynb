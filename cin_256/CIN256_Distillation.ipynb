{
 "cells": [
  {
   "cell_type": "code",
   "execution_count": 2,
   "metadata": {},
   "outputs": [
    {
     "name": "stdout",
     "output_type": "stream",
     "text": [
      "Loading model from c:\\Diffusion_Thesis\\cin_256/models/cin256_original.ckpt\n",
      "LatentDiffusion: Running in eps-prediction mode\n",
      "DiffusionWrapper has 400.92 M params.\n",
      "making attention of type 'vanilla' with 512 in_channels\n",
      "Working with z of shape (1, 3, 64, 64) = 12288 dimensions.\n",
      "making attention of type 'vanilla' with 512 in_channels\n"
     ]
    }
   ],
   "source": [
    "from util_x0 import *\n",
    "import wandb\n",
    "\n",
    "cwd = os.getcwd()\n",
    "%reload_ext autoreload\n",
    "%autoreload 2\n",
    "\n",
    "config_path=f\"{cwd}/models/configs/cin256-v2-x0.yaml\"\n",
    "model_path=f\"{cwd}/models/cin256_original.ckpt\"\n",
    "\n",
    "teacher = create_models(config_path, model_path, student=False)"
   ]
  },
  {
   "cell_type": "code",
   "execution_count": 3,
   "metadata": {},
   "outputs": [
    {
     "ename": "AttributeError",
     "evalue": "'tuple' object has no attribute 'num_timesteps'",
     "output_type": "error",
     "traceback": [
      "\u001b[1;31m---------------------------------------------------------------------------\u001b[0m",
      "\u001b[1;31mAttributeError\u001b[0m                            Traceback (most recent call last)",
      "Cell \u001b[1;32mIn[3], line 2\u001b[0m\n\u001b[0;32m      1\u001b[0m timesteps \u001b[39m=\u001b[39m \u001b[39m600\u001b[39m\n\u001b[1;32m----> 2\u001b[0m teacher\u001b[39m.\u001b[39;49mnum_timesteps\u001b[39m=\u001b[39m timesteps\n\u001b[0;32m      3\u001b[0m \u001b[39m# uc = teacher.get_learned_conditioning({teacher.cond_stage_key: torch.tensor(1*[1000]).to(teacher.device)})\u001b[39;00m\n\u001b[0;32m      4\u001b[0m xc \u001b[39m=\u001b[39m torch\u001b[39m.\u001b[39mtensor([\u001b[39m992\u001b[39m])\n",
      "\u001b[1;31mAttributeError\u001b[0m: 'tuple' object has no attribute 'num_timesteps'"
     ]
    }
   ],
   "source": [
    "timesteps = 600\n",
    "teacher.num_timesteps= timesteps\n",
    "# uc = teacher.get_learned_conditioning({teacher.cond_stage_key: torch.tensor(1*[1000]).to(teacher.device)})\n",
    "xc = torch.tensor([992])\n",
    "c = teacher.get_learned_conditioning({teacher.cond_stage_key: xc.to(teacher.device)})\n",
    "img, x0, imgs = teacher.progressive_denoising(cond=uc, shape=[3, 64, 64], verbose=True, callback=None, quantize_denoised=False,\n",
    "                              img_callback=None, mask=None, x0=None, temperature=1., noise_dropout=0.,\n",
    "                              score_corrector=None, corrector_kwargs=None, batch_size=1, x_T=None, start_T=None,\n",
    "                              log_every_t=None, keep_intermediates=True)"
   ]
  }
 ],
 "metadata": {
  "kernelspec": {
   "display_name": "thesis",
   "language": "python",
   "name": "python3"
  },
  "language_info": {
   "codemirror_mode": {
    "name": "ipython",
    "version": 3
   },
   "file_extension": ".py",
   "mimetype": "text/x-python",
   "name": "python",
   "nbconvert_exporter": "python",
   "pygments_lexer": "ipython3",
   "version": "3.9.16"
  },
  "orig_nbformat": 4
 },
 "nbformat": 4,
 "nbformat_minor": 2
}
